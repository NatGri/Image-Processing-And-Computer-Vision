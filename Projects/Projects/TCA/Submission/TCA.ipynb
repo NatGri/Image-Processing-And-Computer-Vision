{
 "cells": [
  {
   "cell_type": "code",
   "execution_count": 2,
   "metadata": {
    "collapsed": true
   },
   "outputs": [
    {
     "name": "stderr",
     "output_type": "stream",
     "text": [
      "[ WARN:0@7.142] global /Users/runner/work/opencv-python/opencv-python/opencv/modules/imgcodecs/src/loadsave.cpp (239) findDecoder imread_('./Images/sea_object.jpg'): can't open/read file: check file path/integrity\n"
     ]
    },
    {
     "ename": "error",
     "evalue": "OpenCV(5.0.0-pre) /Users/runner/work/opencv-python/opencv-python/opencv/modules/imgproc/src/color.cpp:182: error: (-215:Assertion failed) !_src.empty() in function 'cvtColor'\n",
     "output_type": "error",
     "traceback": [
      "\u001B[0;31m---------------------------------------------------------------------------\u001B[0m",
      "\u001B[0;31merror\u001B[0m                                     Traceback (most recent call last)",
      "Input \u001B[0;32mIn [2]\u001B[0m, in \u001B[0;36m<cell line: 9>\u001B[0;34m()\u001B[0m\n\u001B[1;32m      7\u001B[0m \u001B[38;5;66;03m# Task 4:\u001B[39;00m\n\u001B[1;32m      8\u001B[0m im \u001B[38;5;241m=\u001B[39m cv2\u001B[38;5;241m.\u001B[39mimread(\u001B[38;5;124m'\u001B[39m\u001B[38;5;124m./Images/sea_object.jpg\u001B[39m\u001B[38;5;124m'\u001B[39m)\n\u001B[0;32m----> 9\u001B[0m imRGB \u001B[38;5;241m=\u001B[39m \u001B[43mcv2\u001B[49m\u001B[38;5;241;43m.\u001B[39;49m\u001B[43mcvtColor\u001B[49m\u001B[43m(\u001B[49m\u001B[43mim\u001B[49m\u001B[43m,\u001B[49m\u001B[43m \u001B[49m\u001B[43mcv2\u001B[49m\u001B[38;5;241;43m.\u001B[39;49m\u001B[43mCOLOR_BGR2RGB\u001B[49m\u001B[43m)\u001B[49m\n\u001B[1;32m     10\u001B[0m imHSV \u001B[38;5;241m=\u001B[39m cv2\u001B[38;5;241m.\u001B[39mcvtColor(im, cv2\u001B[38;5;241m.\u001B[39mCOLOR_BGR2HSV)\n\u001B[1;32m     12\u001B[0m lower_bound \u001B[38;5;241m=\u001B[39m np\u001B[38;5;241m.\u001B[39marray([\u001B[38;5;241m0\u001B[39m, \u001B[38;5;241m100\u001B[39m, \u001B[38;5;241m100\u001B[39m], np\u001B[38;5;241m.\u001B[39muint8)\n",
      "\u001B[0;31merror\u001B[0m: OpenCV(5.0.0-pre) /Users/runner/work/opencv-python/opencv-python/opencv/modules/imgproc/src/color.cpp:182: error: (-215:Assertion failed) !_src.empty() in function 'cvtColor'\n"
     ]
    }
   ],
   "source": [
    "import cv2\n",
    "import matplotlib.pyplot as plt\n",
    "from PIL import Image\n",
    "import matplotlib.cm as cm\n",
    "import numpy as np\n",
    "\n",
    "# Task 4:\n",
    "im = cv2.imread('./Images/sea_object.jpg')\n",
    "imRGB = cv2.cvtColor(im, cv2.COLOR_BGR2RGB)\n",
    "imHSV = cv2.cvtColor(im, cv2.COLOR_BGR2HSV)\n",
    "\n",
    "lower_bound = np.array([0, 100, 100], np.uint8)\n",
    "upper_bound = np.array([25,255,255], np.uint8)\n",
    "mask = cv2.inRange(imHSV, lower_bound, upper_bound)\n",
    "\n",
    "result = cv2.bitwise_and(imRGB, imRGB, mask = mask)\n",
    "\n",
    "plt.imshow(result)\n",
    "plt.show()\n",
    "\n",
    "Image.fromarray(result).save('segmented.jpeg')"
   ]
  },
  {
   "cell_type": "code",
   "execution_count": null,
   "outputs": [],
   "source": [
    "import cv2\n",
    "import matplotlib.pyplot as plt\n",
    "from PIL import Image\n",
    "import matplotlib.cm as cm\n",
    "import numpy as np\n",
    "#Task 4:\n",
    "\n",
    "ML = cv2.imread('./Images/foggy.jpg')\n",
    "ML_G = cv2.cvtColor(ML,cv2.COLOR_BGR2GRAY)\n",
    "\n",
    "fig,axis = plt.subplots(1,2)\n",
    "axis[0].imshow(ML_G, cmap=plt.cm.gray)\n",
    "axis[1].hist(ML_G.ravel(),256,[0,256])\n",
    "plt.show()\n",
    "\n",
    "condition1 = ML_G[:,:,] < 128\n",
    "condition2 = ML_G[:,:,]  >= 128\n",
    "\n",
    "imlow = np.extract(condition1,ML_G)\n",
    "imhigh = np.extract(condition2,ML_G)\n",
    "\n",
    "fig,axis = plt.subplots(2,2)\n",
    "axis[0].imshow(imlow, cmap=plt.cm.gray)\n",
    "axis[1].hist(imlow.ravel(),256,[0,256])\n",
    "axis[0].imshow(imhigh, cmap=plt.cm.gray)\n",
    "axis[1].hist(imhigh.ravel(),256,[0,256])\n",
    "plt.show()\n",
    "\n",
    "plt.imshow(imlow, cmap='gray')\n",
    "plt.show()"
   ],
   "metadata": {
    "collapsed": false
   }
  },
  {
   "cell_type": "code",
   "execution_count": null,
   "outputs": [],
   "source": [],
   "metadata": {
    "collapsed": false
   }
  }
 ],
 "metadata": {
  "kernelspec": {
   "display_name": "Python 3",
   "language": "python",
   "name": "python3"
  },
  "language_info": {
   "codemirror_mode": {
    "name": "ipython",
    "version": 2
   },
   "file_extension": ".py",
   "mimetype": "text/x-python",
   "name": "python",
   "nbconvert_exporter": "python",
   "pygments_lexer": "ipython2",
   "version": "2.7.6"
  }
 },
 "nbformat": 4,
 "nbformat_minor": 0
}
