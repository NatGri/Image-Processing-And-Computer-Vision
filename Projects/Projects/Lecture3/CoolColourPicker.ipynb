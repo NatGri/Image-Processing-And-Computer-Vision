{
 "cells": [
  {
   "cell_type": "code",
   "execution_count": 9,
   "metadata": {
    "collapsed": true
   },
   "outputs": [],
   "source": [
    "import cv2\n",
    "import numpy as np\n",
    "\n",
    "def nothing(x):\n",
    "    pass\n",
    "\n",
    "image = np.zeros((300,500,3), np.uint8)\n",
    "# Creating a Window:\n",
    "cv2.namedWindow('colorPicker')\n",
    "\n",
    "# Creating trackbars:\n",
    "cv2.createTrackbar('R','colorPicker',0,255,nothing)\n",
    "cv2.createTrackbar('G','colorPicker',0,255,nothing)\n",
    "cv2.createTrackbar('B','colorPicker',0,255,nothing)\n",
    "cv2.createTrackbar('A','colorPicker',0,1,nothing)\n",
    "\n",
    "while(1):\n",
    "    cv2.imshow('colorPicker', image)\n",
    "\n",
    "    # Get Positions:\n",
    "    r = cv2.getTrackbarPos('R', 'colorPicker')\n",
    "    g = cv2.getTrackbarPos('G', 'colorPicker')\n",
    "    b = cv2.getTrackbarPos('B', 'colorPicker')\n",
    "    a = cv2.getTrackbarPos('A', 'colorPicker')\n",
    "    if a == 0:\n",
    "        image[:] = [0,0,0]\n",
    "    else:\n",
    "        image[:] =[b,g,r]\n",
    "\n",
    "    if cv2.waitKey(1) & 0xFF == ord('q'):\n",
    "        break\n",
    "\n",
    "cv2.destroyAllWindows()\n",
    "\n",
    "for i in range(1,5):\n",
    "    cv2.waitKey(1)"
   ]
  },
  {
   "cell_type": "code",
   "execution_count": null,
   "outputs": [],
   "source": [],
   "metadata": {
    "collapsed": false
   }
  }
 ],
 "metadata": {
  "kernelspec": {
   "display_name": "Python 3",
   "language": "python",
   "name": "python3"
  },
  "language_info": {
   "codemirror_mode": {
    "name": "ipython",
    "version": 2
   },
   "file_extension": ".py",
   "mimetype": "text/x-python",
   "name": "python",
   "nbconvert_exporter": "python",
   "pygments_lexer": "ipython2",
   "version": "2.7.6"
  }
 },
 "nbformat": 4,
 "nbformat_minor": 0
}
