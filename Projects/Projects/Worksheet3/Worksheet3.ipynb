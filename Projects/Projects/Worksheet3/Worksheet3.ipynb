{
 "cells": [
  {
   "cell_type": "markdown",
   "source": [
    "# Worksheet 3\n",
    "\n",
    "## Manipulating Image Matrices and Keyboard Input\n",
    "\n",
    "## Task 1:\n",
    "Create a Python Program which loads an image, convert it to grayscale and store it in a numpy array."
   ],
   "metadata": {
    "collapsed": false
   }
  },
  {
   "cell_type": "code",
   "execution_count": null,
   "outputs": [],
   "source": [
    "import matplotlib.pyplot as plt\n",
    "from PIL import Image\n",
    "import numpy as np\n",
    "\n",
    "im = np.array(Image.open('../Practice-Images/lena.jpg'))"
   ],
   "metadata": {
    "collapsed": false
   }
  },
  {
   "cell_type": "markdown",
   "source": [
    "Research how to use the `input()` function, cast the input to an integer and store the result in a variable named `t_value`\n",
    "\n",
    "(Introduce validation to avoid thresholds outside the 0-255 range)"
   ],
   "metadata": {
    "collapsed": false
   }
  },
  {
   "cell_type": "code",
   "execution_count": null,
   "outputs": [],
   "source": [
    "while True:\n",
    "    print('Please Enter a Value Between 0-255:\\n')\n",
    "    t_value = input()\n",
    "    try:\n",
    "        t_value = int(t_value)\n",
    "    except:\n",
    "        print('Please enter only numerical values!')\n",
    "        continue\n",
    "    if t_value < 0 or t_value > 255:\n",
    "        print('Please keep the number between 0-255!')\n",
    "        continue\n",
    "    break"
   ],
   "metadata": {
    "collapsed": false
   }
  },
  {
   "cell_type": "markdown",
   "source": [
    "Invert an image making use of a user-inputted threshold, using the formula: `im_result = t_value - im`"
   ],
   "metadata": {
    "collapsed": false
   }
  },
  {
   "cell_type": "code",
   "execution_count": null,
   "outputs": [],
   "source": [
    "im_result = t_value - im\n",
    "plt.imshow(im_result)\n",
    "plt.show()"
   ],
   "metadata": {
    "collapsed": false
   }
  },
  {
   "cell_type": "markdown",
   "source": [
    "## Task 2\n",
    "Load the `PIL`,`pyplot` and `numpy` libraries."
   ],
   "metadata": {
    "collapsed": false
   }
  },
  {
   "cell_type": "code",
   "execution_count": null,
   "outputs": [],
   "source": [
    "import matplotlib.pyplot as plt\n",
    "from PIL import Image\n",
    "import numpy as np"
   ],
   "metadata": {
    "collapsed": false
   }
  },
  {
   "cell_type": "markdown",
   "source": [
    "Open an RGB Image of your choice, storing it in a 3D Matrix"
   ],
   "metadata": {
    "collapsed": false
   }
  },
  {
   "cell_type": "code",
   "execution_count": null,
   "outputs": [],
   "source": [
    "ML = np.array(Image.open('../Practice-Images/lena.jpg'))\n",
    "\n",
    "# Splitting into R G B:\n",
    "ML_R = ML.copy()\n",
    "ML_R[:,:,(1,2)] = 0\n",
    "\n",
    "ML_G = ML.copy()\n",
    "ML_G[:,:,(0,2)] = 0\n",
    "\n",
    "ML_B = ML.copy()\n",
    "ML_B[:,:,(0,1)] = 0"
   ],
   "metadata": {
    "collapsed": false
   }
  },
  {
   "cell_type": "markdown",
   "source": [
    "Create an Octave Program, that displays each colour in an RGB image separately. Use a 2x2 subplot to display each color and the original image. Switch off display of axis in your 2x2 subplot."
   ],
   "metadata": {
    "collapsed": false
   }
  },
  {
   "cell_type": "code",
   "execution_count": null,
   "outputs": [],
   "source": [
    "f, axarr = plt.subplots(2,2)\n",
    "axarr[0,0].imshow(ML)\n",
    "axarr[0,1].imshow(ML_R)\n",
    "axarr[1,0].imshow(ML_G)\n",
    "axarr[1,1].imshow(ML_B)\n",
    "\n",
    "axarr[0,0].axis('off')\n",
    "axarr[0,1].axis('off')\n",
    "axarr[1,0].axis('off')\n",
    "axarr[1,1].axis('off')"
   ],
   "metadata": {
    "collapsed": false
   }
  },
  {
   "cell_type": "markdown",
   "source": [
    "Save the Red, Green and Blue Images Seperately."
   ],
   "metadata": {
    "collapsed": false
   }
  },
  {
   "cell_type": "code",
   "execution_count": null,
   "outputs": [],
   "source": [
    "# Red:\n",
    "Image.fromarray(ML_R.astype(np.uint8)).save('images/red.png')\n",
    "# Green:\n",
    "Image.fromarray(ML_G.astype(np.uint8)).save('images/green.png')\n",
    "# Blue:\n",
    "Image.fromarray(ML_B.astype(np.uint8)).save('images/blue.png')"
   ],
   "metadata": {
    "collapsed": false
   }
  },
  {
   "cell_type": "markdown",
   "source": [
    "## Task 3\n",
    "\n",
    "Open an RGB Image of your choice, storing it in a 3D Matrix."
   ],
   "metadata": {
    "collapsed": false
   }
  },
  {
   "cell_type": "code",
   "execution_count": null,
   "outputs": [],
   "source": [
    "ML = np.array(Image.open('../Practice-Images/lena.jpg'))\n",
    "plt.imshow(ML)"
   ],
   "metadata": {
    "collapsed": false
   }
  },
  {
   "cell_type": "markdown",
   "source": [
    "Use the `shape()` function to calculate the width and height of the image. Store these values into two variables `width` and `height`"
   ],
   "metadata": {
    "collapsed": false
   }
  },
  {
   "cell_type": "code",
   "execution_count": null,
   "outputs": [],
   "source": [
    "print(ML.shape)\n",
    "width = 400\n",
    "height = 225"
   ],
   "metadata": {
    "collapsed": false
   }
  },
  {
   "cell_type": "markdown",
   "source": [
    "Use these variables to split the image into `four` separate matrices."
   ],
   "metadata": {
    "collapsed": false
   }
  },
  {
   "cell_type": "code",
   "execution_count": null,
   "outputs": [],
   "source": [
    "ML_TL = ML[:125,:200,:]\n",
    "ML_TR = ML[:125,200:400,:]\n",
    "ML_BR = ML[125:,200:,:]\n",
    "ML_BL = ML[125:,:200:,:]\n",
    "\n",
    "# Testing:\n",
    "plt.imshow(ML_TL)\n",
    "plt.show()\n",
    "plt.imshow(ML_TR)\n",
    "plt.show()\n",
    "plt.imshow(ML_BL)\n",
    "plt.show()\n",
    "plt.imshow(ML_BR)\n",
    "plt.show()"
   ],
   "metadata": {
    "collapsed": false
   }
  },
  {
   "cell_type": "markdown",
   "source": [
    "Display the matrices as four images in a 2x2 subplot."
   ],
   "metadata": {
    "collapsed": false
   }
  },
  {
   "cell_type": "code",
   "execution_count": null,
   "outputs": [],
   "source": [
    "f, axarr = plt.subplots(2,2)\n",
    "axarr[0,0].imshow(ML_TL)\n",
    "axarr[0,1].imshow(ML_TR)\n",
    "axarr[1,0].imshow(ML_BL)\n",
    "axarr[1,1].imshow(ML_BR)"
   ],
   "metadata": {
    "collapsed": false
   }
  }
 ],
 "metadata": {
  "kernelspec": {
   "display_name": "Python 3",
   "language": "python",
   "name": "python3"
  },
  "language_info": {
   "codemirror_mode": {
    "name": "ipython",
    "version": 2
   },
   "file_extension": ".py",
   "mimetype": "text/x-python",
   "name": "python",
   "nbconvert_exporter": "python",
   "pygments_lexer": "ipython2",
   "version": "2.7.6"
  }
 },
 "nbformat": 4,
 "nbformat_minor": 0
}
