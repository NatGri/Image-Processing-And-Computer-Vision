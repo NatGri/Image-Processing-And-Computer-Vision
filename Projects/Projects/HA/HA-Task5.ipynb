{
 "cells": [
  {
   "cell_type": "markdown",
   "source": [
    "# Task 5"
   ],
   "metadata": {
    "collapsed": false
   }
  },
  {
   "cell_type": "code",
   "execution_count": 24,
   "outputs": [],
   "source": [
    "#cd yolov7"
   ],
   "metadata": {
    "collapsed": false
   }
  },
  {
   "cell_type": "code",
   "execution_count": 25,
   "outputs": [],
   "source": [
    "#video = './inference/video/CutVid.mp4'\n",
    "#image = './inference/images/street1.jpg'"
   ],
   "metadata": {
    "collapsed": false
   }
  },
  {
   "cell_type": "code",
   "execution_count": 26,
   "outputs": [],
   "source": [
    "#!python detect.py --weights yolov7-e6e.pt --source video"
   ],
   "metadata": {
    "collapsed": false
   }
  },
  {
   "cell_type": "code",
   "execution_count": 29,
   "outputs": [
    {
     "name": "stdout",
     "output_type": "stream",
     "text": [
      "Namespace(agnostic_nms=False, augment=False, classes=None, conf_thres=0.25, device='', exist_ok=False, img_size=640, iou_thres=0.45, name='exp', no_trace=False, nosave=False, project='runs/detect', save_conf=False, save_txt=False, source='./inference/images/test.png', update=False, view_img=False, weights=['yolov7-e6e.pt'])\r\n",
      "YOLOR 🚀 v0.1-121-g2fdc7f1 torch 1.13.1 CPU\r\n",
      "\r\n",
      "Fusing layers... \r\n",
      "[W NNPACK.cpp:53] Could not initialize NNPACK! Reason: Unsupported hardware.\r\n",
      "Model Summary: 792 layers, 151687420 parameters, 817020 gradients\r\n",
      " Convert model to Traced-model... \r\n",
      " traced_script_module saved! \r\n",
      " model is traced! \r\n",
      "\r\n",
      "/Users/natalgrima/opt/anaconda3/envs/ipcv/lib/python3.8/site-packages/torch/functional.py:504: UserWarning: torch.meshgrid: in an upcoming release, it will be required to pass the indexing argument. (Triggered internally at /Users/runner/work/pytorch/pytorch/pytorch/aten/src/ATen/native/TensorShape.cpp:3191.)\r\n",
      "  return _VF.meshgrid(tensors, **kwargs)  # type: ignore[attr-defined]\r\n",
      "1 person, 7 cars, 1 bus, 1 truck, 2 traffic lights, Done. (5353.4ms) Inference, (9.8ms) NMS\r\n",
      " The image with the result is saved in: runs/detect/exp2/test.png\r\n",
      "Done. (5.590s)\r\n"
     ]
    }
   ],
   "source": [
    "# Testing Code:\n",
    "!python detect.py --weights yolov7-e6e.pt --source './inference/images/test.png'"
   ],
   "metadata": {
    "collapsed": false
   }
  },
  {
   "cell_type": "code",
   "execution_count": 27,
   "outputs": [],
   "source": [],
   "metadata": {
    "collapsed": false
   }
  }
 ],
 "metadata": {
  "kernelspec": {
   "display_name": "Python 3",
   "language": "python",
   "name": "python3"
  },
  "language_info": {
   "codemirror_mode": {
    "name": "ipython",
    "version": 2
   },
   "file_extension": ".py",
   "mimetype": "text/x-python",
   "name": "python",
   "nbconvert_exporter": "python",
   "pygments_lexer": "ipython2",
   "version": "2.7.6"
  }
 },
 "nbformat": 4,
 "nbformat_minor": 0
}
