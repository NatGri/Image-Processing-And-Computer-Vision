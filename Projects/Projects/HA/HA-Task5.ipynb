{
 "cells": [
  {
   "cell_type": "markdown",
   "source": [
    "# Task 5"
   ],
   "metadata": {
    "collapsed": false
   }
  },
  {
   "cell_type": "code",
   "execution_count": 66,
   "outputs": [],
   "source": [
    "import os\n",
    "os.chdir('/Users/natalgrima/School/Image-Processing-And-Computer-Vision/Projects/Projects/HA/yolov7')"
   ],
   "metadata": {
    "collapsed": false
   }
  },
  {
   "cell_type": "code",
   "execution_count": 67,
   "outputs": [],
   "source": [
    "#video = './inference/video/CutVid.mp4'\n",
    "#image = './inference/images/street1.jpg'"
   ],
   "metadata": {
    "collapsed": false
   }
  },
  {
   "cell_type": "code",
   "execution_count": 68,
   "outputs": [],
   "source": [
    "#!python detect.py --weights yolov7-e6e.pt --source video"
   ],
   "metadata": {
    "collapsed": false
   }
  },
  {
   "cell_type": "code",
   "execution_count": 69,
   "outputs": [
    {
     "name": "stdout",
     "output_type": "stream",
     "text": [
      "Namespace(agnostic_nms=False, augment=False, classes=None, conf_thres=0.25, device='', exist_ok=False, img_size=640, iou_thres=0.45, name='exp', no_trace=False, nosave=False, project='runs/detect', save_conf=False, save_txt=False, source='./inference/images/test.png', update=False, view_img=False, weights=['yolov7-e6e.pt'])\r\n",
      "YOLOR 🚀 v0.1-121-g2fdc7f1 torch 1.13.1 CPU\r\n",
      "\r\n",
      "Fusing layers... \r\n",
      "[W NNPACK.cpp:53] Could not initialize NNPACK! Reason: Unsupported hardware.\r\n",
      "Model Summary: 792 layers, 151687420 parameters, 817020 gradients\r\n",
      " Convert model to Traced-model... \r\n",
      " traced_script_module saved! \r\n",
      " model is traced! \r\n",
      "\r\n",
      "/Users/natalgrima/opt/anaconda3/envs/ipcv/lib/python3.8/site-packages/torch/functional.py:504: UserWarning: torch.meshgrid: in an upcoming release, it will be required to pass the indexing argument. (Triggered internally at /Users/runner/work/pytorch/pytorch/pytorch/aten/src/ATen/native/TensorShape.cpp:3191.)\r\n",
      "  return _VF.meshgrid(tensors, **kwargs)  # type: ignore[attr-defined]\r\n",
      "Vehicle Bounding Box 1: \r\n",
      " x1: 0.0, y1: 1283.0, x2: 53.0, y2: 1408.0\r\n",
      "Vehicle Bounding Box 2: \r\n",
      " x1: 1193.0, y1: 694.0, x2: 1252.0, y2: 743.0\r\n",
      "Vehicle Bounding Box 3: \r\n",
      " x1: 417.0, y1: 686.0, x2: 805.0, y2: 1001.0\r\n",
      "Vehicle Bounding Box 4: \r\n",
      " x1: 734.0, y1: 716.0, x2: 887.0, y2: 899.0\r\n",
      "Vehicle Bounding Box 5: \r\n",
      " x1: 1263.0, y1: 720.0, x2: 1387.0, y2: 812.0\r\n",
      "Vehicle Bounding Box 6: \r\n",
      " x1: 2.0, y1: 627.0, x2: 573.0, y2: 1233.0\r\n",
      "Vehicle Bounding Box 7: \r\n",
      " x1: 1562.0, y1: 724.0, x2: 2052.0, y2: 1027.0\r\n",
      "1 person, 7 cars, 1 bus, 1 truck, 2 traffic lights, Done. (5394.3ms) Inference, (12.7ms) NMS\r\n",
      " The image with the result is saved in: runs/detect/exp12/test.png\r\n",
      "Done. (5.594s)\r\n"
     ]
    }
   ],
   "source": [
    "# Testing Code:\n",
    "!python detect.py --weights yolov7-e6e.pt --source './inference/images/test.png'"
   ],
   "metadata": {
    "collapsed": false
   }
  },
  {
   "cell_type": "code",
   "execution_count": 69,
   "outputs": [],
   "source": [],
   "metadata": {
    "collapsed": false
   }
  }
 ],
 "metadata": {
  "kernelspec": {
   "display_name": "Python 3",
   "language": "python",
   "name": "python3"
  },
  "language_info": {
   "codemirror_mode": {
    "name": "ipython",
    "version": 2
   },
   "file_extension": ".py",
   "mimetype": "text/x-python",
   "name": "python",
   "nbconvert_exporter": "python",
   "pygments_lexer": "ipython2",
   "version": "2.7.6"
  }
 },
 "nbformat": 4,
 "nbformat_minor": 0
}
